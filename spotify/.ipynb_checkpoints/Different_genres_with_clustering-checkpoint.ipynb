{
 "cells": [
  {
   "cell_type": "code",
   "execution_count": 1,
   "metadata": {},
   "outputs": [
    {
     "data": {
      "text/plain": [
       "'\\nTask Details\\nIt will be interesting to see what the top songs share in common (in terms of the features which can easily be quantified). In this task you should use different clustering algorithms to cluster the top Spotify songs in 2019 by their numerical features (excluding popularity), this should be presented with an interactive visualisation and the results should be supported by a textual summary of any insights which can be drawn. Primarily you should be looking to discover if the songs cluster in different genres and from this can you identify the top music genres in 2019?\\n\\nExpected Submission\\nThe submission should be a notebook and should include interactive visualisations of the clustering.\\n\\nEvaluation\\nA good solution will present one or more novel insights from performing the clustering.\\n'"
      ]
     },
     "execution_count": 1,
     "metadata": {},
     "output_type": "execute_result"
    }
   ],
   "source": [
    "'''\n",
    "Task Details\n",
    "It will be interesting to see what the top songs share in common (in terms of the features which can easily be quantified). In this task you should use different clustering algorithms to cluster the top Spotify songs in 2019 by their numerical features (excluding popularity), this should be presented with an interactive visualisation and the results should be supported by a textual summary of any insights which can be drawn. Primarily you should be looking to discover if the songs cluster in different genres and from this can you identify the top music genres in 2019?\n",
    "\n",
    "Expected Submission\n",
    "The submission should be a notebook and should include interactive visualisations of the clustering.\n",
    "\n",
    "Evaluation\n",
    "A good solution will present one or more novel insights from performing the clustering.\n",
    "'''"
   ]
  },
  {
   "cell_type": "code",
   "execution_count": null,
   "metadata": {
    "collapsed": true
   },
   "outputs": [],
   "source": []
  }
 ],
 "metadata": {
  "kernelspec": {
   "display_name": "Python 3",
   "language": "python",
   "name": "python3"
  },
  "language_info": {
   "codemirror_mode": {
    "name": "ipython",
    "version": 3
   },
   "file_extension": ".py",
   "mimetype": "text/x-python",
   "name": "python",
   "nbconvert_exporter": "python",
   "pygments_lexer": "ipython3",
   "version": "3.6.2"
  }
 },
 "nbformat": 4,
 "nbformat_minor": 2
}
